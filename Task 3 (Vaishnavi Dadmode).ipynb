{
 "cells": [
  {
   "cell_type": "markdown",
   "id": "4ccf3803",
   "metadata": {},
   "source": [
    "# INTERN NAME- Vaishnavi Dadmode\n",
    "SKILLVERTEX DATA SCIENCE INTERNSHIP - TASK 3\n",
    "\n",
    "STARTUPS DATASET-PERFORMING EDA,DATA CLEANING(DATA PREPROCESSING),DATA VISUALIZATION"
   ]
  },
  {
   "cell_type": "code",
   "execution_count": 1,
   "id": "3483e9d9",
   "metadata": {},
   "outputs": [],
   "source": [
    "#Import libraries\n",
    "import numpy as np\n",
    "import pandas as pd\n",
    "import seaborn as sns\n",
    "import matplotlib.pyplot as plt"
   ]
  },
  {
   "cell_type": "code",
   "execution_count": 2,
   "id": "121a861a",
   "metadata": {},
   "outputs": [],
   "source": [
    "# lets import warnings module\n",
    "import warnings\n",
    "warnings.filterwarnings('ignore')"
   ]
  },
  {
   "cell_type": "code",
   "execution_count": 3,
   "id": "c3447be0",
   "metadata": {},
   "outputs": [],
   "source": [
    "#Loading dataset\n",
    "data=pd.read_csv(\"startup_funding.csv\")"
   ]
  },
  {
   "cell_type": "code",
   "execution_count": 4,
   "id": "547827cb",
   "metadata": {},
   "outputs": [
    {
     "data": {
      "text/html": [
       "<div>\n",
       "<style scoped>\n",
       "    .dataframe tbody tr th:only-of-type {\n",
       "        vertical-align: middle;\n",
       "    }\n",
       "\n",
       "    .dataframe tbody tr th {\n",
       "        vertical-align: top;\n",
       "    }\n",
       "\n",
       "    .dataframe thead th {\n",
       "        text-align: right;\n",
       "    }\n",
       "</style>\n",
       "<table border=\"1\" class=\"dataframe\">\n",
       "  <thead>\n",
       "    <tr style=\"text-align: right;\">\n",
       "      <th></th>\n",
       "      <th>Sr No</th>\n",
       "      <th>Date dd/mm/yyyy</th>\n",
       "      <th>Startup Name</th>\n",
       "      <th>Industry Vertical</th>\n",
       "      <th>SubVertical</th>\n",
       "      <th>City  Location</th>\n",
       "      <th>Investors Name</th>\n",
       "      <th>InvestmentnType</th>\n",
       "      <th>Amount in USD</th>\n",
       "      <th>Remarks</th>\n",
       "    </tr>\n",
       "  </thead>\n",
       "  <tbody>\n",
       "    <tr>\n",
       "      <th>0</th>\n",
       "      <td>1</td>\n",
       "      <td>09/01/2020</td>\n",
       "      <td>BYJU’S</td>\n",
       "      <td>E-Tech</td>\n",
       "      <td>E-learning</td>\n",
       "      <td>Bengaluru</td>\n",
       "      <td>Tiger Global Management</td>\n",
       "      <td>Private Equity Round</td>\n",
       "      <td>20,00,00,000</td>\n",
       "      <td>NaN</td>\n",
       "    </tr>\n",
       "    <tr>\n",
       "      <th>1</th>\n",
       "      <td>2</td>\n",
       "      <td>13/01/2020</td>\n",
       "      <td>Shuttl</td>\n",
       "      <td>Transportation</td>\n",
       "      <td>App based shuttle service</td>\n",
       "      <td>Gurgaon</td>\n",
       "      <td>Susquehanna Growth Equity</td>\n",
       "      <td>Series C</td>\n",
       "      <td>80,48,394</td>\n",
       "      <td>NaN</td>\n",
       "    </tr>\n",
       "    <tr>\n",
       "      <th>2</th>\n",
       "      <td>3</td>\n",
       "      <td>09/01/2020</td>\n",
       "      <td>Mamaearth</td>\n",
       "      <td>E-commerce</td>\n",
       "      <td>Retailer of baby and toddler products</td>\n",
       "      <td>Bengaluru</td>\n",
       "      <td>Sequoia Capital India</td>\n",
       "      <td>Series B</td>\n",
       "      <td>1,83,58,860</td>\n",
       "      <td>NaN</td>\n",
       "    </tr>\n",
       "    <tr>\n",
       "      <th>3</th>\n",
       "      <td>4</td>\n",
       "      <td>02/01/2020</td>\n",
       "      <td>https://www.wealthbucket.in/</td>\n",
       "      <td>FinTech</td>\n",
       "      <td>Online Investment</td>\n",
       "      <td>New Delhi</td>\n",
       "      <td>Vinod Khatumal</td>\n",
       "      <td>Pre-series A</td>\n",
       "      <td>30,00,000</td>\n",
       "      <td>NaN</td>\n",
       "    </tr>\n",
       "    <tr>\n",
       "      <th>4</th>\n",
       "      <td>5</td>\n",
       "      <td>02/01/2020</td>\n",
       "      <td>Fashor</td>\n",
       "      <td>Fashion and Apparel</td>\n",
       "      <td>Embroiled Clothes For Women</td>\n",
       "      <td>Mumbai</td>\n",
       "      <td>Sprout Venture Partners</td>\n",
       "      <td>Seed Round</td>\n",
       "      <td>18,00,000</td>\n",
       "      <td>NaN</td>\n",
       "    </tr>\n",
       "  </tbody>\n",
       "</table>\n",
       "</div>"
      ],
      "text/plain": [
       "   Sr No Date dd/mm/yyyy                  Startup Name    Industry Vertical  \\\n",
       "0      1      09/01/2020                        BYJU’S               E-Tech   \n",
       "1      2      13/01/2020                        Shuttl       Transportation   \n",
       "2      3      09/01/2020                     Mamaearth           E-commerce   \n",
       "3      4      02/01/2020  https://www.wealthbucket.in/              FinTech   \n",
       "4      5      02/01/2020                        Fashor  Fashion and Apparel   \n",
       "\n",
       "                             SubVertical City  Location  \\\n",
       "0                             E-learning      Bengaluru   \n",
       "1              App based shuttle service        Gurgaon   \n",
       "2  Retailer of baby and toddler products      Bengaluru   \n",
       "3                      Online Investment      New Delhi   \n",
       "4            Embroiled Clothes For Women         Mumbai   \n",
       "\n",
       "              Investors Name       InvestmentnType Amount in USD Remarks  \n",
       "0    Tiger Global Management  Private Equity Round  20,00,00,000     NaN  \n",
       "1  Susquehanna Growth Equity              Series C     80,48,394     NaN  \n",
       "2      Sequoia Capital India              Series B   1,83,58,860     NaN  \n",
       "3             Vinod Khatumal          Pre-series A     30,00,000     NaN  \n",
       "4    Sprout Venture Partners            Seed Round     18,00,000     NaN  "
      ]
     },
     "execution_count": 4,
     "metadata": {},
     "output_type": "execute_result"
    }
   ],
   "source": [
    "#Loads all columns and rows\n",
    "pd.set_option('display.max_columns',None)\n",
    "pd.set_option('display.max_rows',None)\n",
    "#Understanding the data\n",
    "data.head()"
   ]
  },
  {
   "cell_type": "code",
   "execution_count": 5,
   "id": "2b895dae",
   "metadata": {},
   "outputs": [
    {
     "data": {
      "text/plain": [
       "(3044, 10)"
      ]
     },
     "execution_count": 5,
     "metadata": {},
     "output_type": "execute_result"
    }
   ],
   "source": [
    "data.shape"
   ]
  },
  {
   "cell_type": "code",
   "execution_count": 6,
   "id": "28dc837a",
   "metadata": {},
   "outputs": [
    {
     "data": {
      "text/html": [
       "<div>\n",
       "<style scoped>\n",
       "    .dataframe tbody tr th:only-of-type {\n",
       "        vertical-align: middle;\n",
       "    }\n",
       "\n",
       "    .dataframe tbody tr th {\n",
       "        vertical-align: top;\n",
       "    }\n",
       "\n",
       "    .dataframe thead th {\n",
       "        text-align: right;\n",
       "    }\n",
       "</style>\n",
       "<table border=\"1\" class=\"dataframe\">\n",
       "  <thead>\n",
       "    <tr style=\"text-align: right;\">\n",
       "      <th></th>\n",
       "      <th>Sr No</th>\n",
       "    </tr>\n",
       "  </thead>\n",
       "  <tbody>\n",
       "    <tr>\n",
       "      <th>count</th>\n",
       "      <td>3044.000000</td>\n",
       "    </tr>\n",
       "    <tr>\n",
       "      <th>mean</th>\n",
       "      <td>1522.500000</td>\n",
       "    </tr>\n",
       "    <tr>\n",
       "      <th>std</th>\n",
       "      <td>878.871435</td>\n",
       "    </tr>\n",
       "    <tr>\n",
       "      <th>min</th>\n",
       "      <td>1.000000</td>\n",
       "    </tr>\n",
       "    <tr>\n",
       "      <th>25%</th>\n",
       "      <td>761.750000</td>\n",
       "    </tr>\n",
       "    <tr>\n",
       "      <th>50%</th>\n",
       "      <td>1522.500000</td>\n",
       "    </tr>\n",
       "    <tr>\n",
       "      <th>75%</th>\n",
       "      <td>2283.250000</td>\n",
       "    </tr>\n",
       "    <tr>\n",
       "      <th>max</th>\n",
       "      <td>3044.000000</td>\n",
       "    </tr>\n",
       "  </tbody>\n",
       "</table>\n",
       "</div>"
      ],
      "text/plain": [
       "             Sr No\n",
       "count  3044.000000\n",
       "mean   1522.500000\n",
       "std     878.871435\n",
       "min       1.000000\n",
       "25%     761.750000\n",
       "50%    1522.500000\n",
       "75%    2283.250000\n",
       "max    3044.000000"
      ]
     },
     "execution_count": 6,
     "metadata": {},
     "output_type": "execute_result"
    }
   ],
   "source": [
    "data.describe()"
   ]
  },
  {
   "cell_type": "code",
   "execution_count": 7,
   "id": "a3ebea31",
   "metadata": {},
   "outputs": [
    {
     "name": "stdout",
     "output_type": "stream",
     "text": [
      "<class 'pandas.core.frame.DataFrame'>\n",
      "RangeIndex: 3044 entries, 0 to 3043\n",
      "Data columns (total 10 columns):\n",
      " #   Column             Non-Null Count  Dtype \n",
      "---  ------             --------------  ----- \n",
      " 0   Sr No              3044 non-null   int64 \n",
      " 1   Date dd/mm/yyyy    3044 non-null   object\n",
      " 2   Startup Name       3044 non-null   object\n",
      " 3   Industry Vertical  2873 non-null   object\n",
      " 4   SubVertical        2108 non-null   object\n",
      " 5   City  Location     2864 non-null   object\n",
      " 6   Investors Name     3020 non-null   object\n",
      " 7   InvestmentnType    3040 non-null   object\n",
      " 8   Amount in USD      2084 non-null   object\n",
      " 9   Remarks            419 non-null    object\n",
      "dtypes: int64(1), object(9)\n",
      "memory usage: 237.9+ KB\n"
     ]
    }
   ],
   "source": [
    "data.info()"
   ]
  },
  {
   "cell_type": "code",
   "execution_count": 8,
   "id": "5a7f7474",
   "metadata": {},
   "outputs": [
    {
     "data": {
      "text/plain": [
       "Sr No                3044\n",
       "Date dd/mm/yyyy      1035\n",
       "Startup Name         2459\n",
       "Industry Vertical     821\n",
       "SubVertical          1942\n",
       "City  Location        112\n",
       "Investors Name       2412\n",
       "InvestmentnType        55\n",
       "Amount in USD         471\n",
       "Remarks                72\n",
       "dtype: int64"
      ]
     },
     "execution_count": 8,
     "metadata": {},
     "output_type": "execute_result"
    }
   ],
   "source": [
    "#Shows total number of uniques values \n",
    "data.nunique()"
   ]
  },
  {
   "cell_type": "markdown",
   "id": "bb0595a9",
   "metadata": {},
   "source": [
    "# CLEANING DATA"
   ]
  },
  {
   "cell_type": "code",
   "execution_count": 9,
   "id": "d2cddb81",
   "metadata": {
    "scrolled": true
   },
   "outputs": [
    {
     "data": {
      "text/html": [
       "<div>\n",
       "<style scoped>\n",
       "    .dataframe tbody tr th:only-of-type {\n",
       "        vertical-align: middle;\n",
       "    }\n",
       "\n",
       "    .dataframe tbody tr th {\n",
       "        vertical-align: top;\n",
       "    }\n",
       "\n",
       "    .dataframe thead th {\n",
       "        text-align: right;\n",
       "    }\n",
       "</style>\n",
       "<table border=\"1\" class=\"dataframe\">\n",
       "  <thead>\n",
       "    <tr style=\"text-align: right;\">\n",
       "      <th></th>\n",
       "      <th>Total Missing Values</th>\n",
       "      <th>Percent %</th>\n",
       "    </tr>\n",
       "  </thead>\n",
       "  <tbody>\n",
       "    <tr>\n",
       "      <th>Sr No</th>\n",
       "      <td>0</td>\n",
       "      <td>0.000000</td>\n",
       "    </tr>\n",
       "    <tr>\n",
       "      <th>Date dd/mm/yyyy</th>\n",
       "      <td>0</td>\n",
       "      <td>0.000000</td>\n",
       "    </tr>\n",
       "    <tr>\n",
       "      <th>Startup Name</th>\n",
       "      <td>0</td>\n",
       "      <td>0.000000</td>\n",
       "    </tr>\n",
       "    <tr>\n",
       "      <th>Industry Vertical</th>\n",
       "      <td>171</td>\n",
       "      <td>5.617608</td>\n",
       "    </tr>\n",
       "    <tr>\n",
       "      <th>SubVertical</th>\n",
       "      <td>936</td>\n",
       "      <td>30.749014</td>\n",
       "    </tr>\n",
       "    <tr>\n",
       "      <th>City  Location</th>\n",
       "      <td>180</td>\n",
       "      <td>5.913272</td>\n",
       "    </tr>\n",
       "    <tr>\n",
       "      <th>Investors Name</th>\n",
       "      <td>24</td>\n",
       "      <td>0.788436</td>\n",
       "    </tr>\n",
       "    <tr>\n",
       "      <th>InvestmentnType</th>\n",
       "      <td>4</td>\n",
       "      <td>0.131406</td>\n",
       "    </tr>\n",
       "    <tr>\n",
       "      <th>Amount in USD</th>\n",
       "      <td>960</td>\n",
       "      <td>31.537451</td>\n",
       "    </tr>\n",
       "    <tr>\n",
       "      <th>Remarks</th>\n",
       "      <td>2625</td>\n",
       "      <td>86.235217</td>\n",
       "    </tr>\n",
       "  </tbody>\n",
       "</table>\n",
       "</div>"
      ],
      "text/plain": [
       "                   Total Missing Values  Percent %\n",
       "Sr No                                 0   0.000000\n",
       "Date dd/mm/yyyy                       0   0.000000\n",
       "Startup Name                          0   0.000000\n",
       "Industry Vertical                   171   5.617608\n",
       "SubVertical                         936  30.749014\n",
       "City  Location                      180   5.913272\n",
       "Investors Name                       24   0.788436\n",
       "InvestmentnType                       4   0.131406\n",
       "Amount in USD                       960  31.537451\n",
       "Remarks                            2625  86.235217"
      ]
     },
     "execution_count": 9,
     "metadata": {},
     "output_type": "execute_result"
    }
   ],
   "source": [
    "#Gives the percentage of missing values in  dataset\n",
    "missing_value_per=data.isnull().sum()/data.shape[0]*100\n",
    "\n",
    "# lets calculate the total missing values in the data\n",
    "data.isnull().sum()\n",
    "\n",
    "# lets store the above two values in a dataset called missing data\n",
    "missing_data = pd.concat([data.isnull().sum(), missing_value_per], axis=1, keys=['Total Missing Values', 'Percent %'])\n",
    "\n",
    "# lets check the head of the data\n",
    "missing_data"
   ]
  },
  {
   "cell_type": "code",
   "execution_count": 10,
   "id": "c2cdd49b",
   "metadata": {
    "scrolled": true
   },
   "outputs": [
    {
     "data": {
      "text/plain": [
       "<AxesSubplot:>"
      ]
     },
     "execution_count": 10,
     "metadata": {},
     "output_type": "execute_result"
    },
    {
     "data": {
      "image/png": "[encoded data removed]",
      "text/plain": [
       "<Figure size 432x288 with 2 Axes>"
      ]
     },
     "metadata": {
      "needs_background": "light"
     },
     "output_type": "display_data"
    }
   ],
   "source": [
    "#White spot in the figure represent presense of null values\n",
    "#plt.figure(figsize=(25,25))\n",
    "sns.heatmap(data.isnull())"
   ]
  },
  {
   "cell_type": "markdown",
   "id": "6c112154",
   "metadata": {},
   "source": [
    "# NUMERIC DATASET - DATA CLEANING AND PREPROCESSING"
   ]
  },
  {
   "cell_type": "code",
   "execution_count": 11,
   "id": "4b10fbef",
   "metadata": {},
   "outputs": [
    {
     "data": {
      "text/html": [
       "<div>\n",
       "<style scoped>\n",
       "    .dataframe tbody tr th:only-of-type {\n",
       "        vertical-align: middle;\n",
       "    }\n",
       "\n",
       "    .dataframe tbody tr th {\n",
       "        vertical-align: top;\n",
       "    }\n",
       "\n",
       "    .dataframe thead th {\n",
       "        text-align: right;\n",
       "    }\n",
       "</style>\n",
       "<table border=\"1\" class=\"dataframe\">\n",
       "  <thead>\n",
       "    <tr style=\"text-align: right;\">\n",
       "      <th></th>\n",
       "      <th>Sr No</th>\n",
       "    </tr>\n",
       "  </thead>\n",
       "  <tbody>\n",
       "    <tr>\n",
       "      <th>0</th>\n",
       "      <td>1</td>\n",
       "    </tr>\n",
       "    <tr>\n",
       "      <th>1</th>\n",
       "      <td>2</td>\n",
       "    </tr>\n",
       "    <tr>\n",
       "      <th>2</th>\n",
       "      <td>3</td>\n",
       "    </tr>\n",
       "    <tr>\n",
       "      <th>3</th>\n",
       "      <td>4</td>\n",
       "    </tr>\n",
       "    <tr>\n",
       "      <th>4</th>\n",
       "      <td>5</td>\n",
       "    </tr>\n",
       "  </tbody>\n",
       "</table>\n",
       "</div>"
      ],
      "text/plain": [
       "   Sr No\n",
       "0      1\n",
       "1      2\n",
       "2      3\n",
       "3      4\n",
       "4      5"
      ]
     },
     "execution_count": 11,
     "metadata": {},
     "output_type": "execute_result"
    }
   ],
   "source": [
    "#Gives the variables which has numeric datavalues in it\n",
    "data_num=data.select_dtypes(include=['int64','float64'])\n",
    "data_num.head()"
   ]
  },
  {
   "cell_type": "code",
   "execution_count": 12,
   "id": "53535f67",
   "metadata": {},
   "outputs": [
    {
     "data": {
      "text/plain": [
       "Sr No    0\n",
       "dtype: int64"
      ]
     },
     "execution_count": 12,
     "metadata": {},
     "output_type": "execute_result"
    }
   ],
   "source": [
    "data_num.isnull().sum()"
   ]
  },
  {
   "cell_type": "markdown",
   "id": "54fb6da2",
   "metadata": {},
   "source": [
    "# CATEGORICAL DATASET-DATA CLEANING AND PREPROCESSING"
   ]
  },
  {
   "cell_type": "code",
   "execution_count": 13,
   "id": "3afcb875",
   "metadata": {},
   "outputs": [
    {
     "data": {
      "text/plain": [
       "Index(['Date dd/mm/yyyy', 'Startup Name', 'Industry Vertical', 'SubVertical',\n",
       "       'City  Location', 'Investors Name', 'InvestmentnType', 'Amount in USD',\n",
       "       'Remarks'],\n",
       "      dtype='object')"
      ]
     },
     "execution_count": 13,
     "metadata": {},
     "output_type": "execute_result"
    }
   ],
   "source": [
    "#Gives the variables which has categorical datavalues in it\n",
    "data_cat=data.select_dtypes(include=['object']).columns\n",
    "data_cat"
   ]
  },
  {
   "cell_type": "code",
   "execution_count": 14,
   "id": "81f9c68c",
   "metadata": {
    "scrolled": true
   },
   "outputs": [
    {
     "data": {
      "text/html": [
       "<div>\n",
       "<style scoped>\n",
       "    .dataframe tbody tr th:only-of-type {\n",
       "        vertical-align: middle;\n",
       "    }\n",
       "\n",
       "    .dataframe tbody tr th {\n",
       "        vertical-align: top;\n",
       "    }\n",
       "\n",
       "    .dataframe thead th {\n",
       "        text-align: right;\n",
       "    }\n",
       "</style>\n",
       "<table border=\"1\" class=\"dataframe\">\n",
       "  <thead>\n",
       "    <tr style=\"text-align: right;\">\n",
       "      <th></th>\n",
       "      <th>Date dd/mm/yyyy</th>\n",
       "      <th>Startup Name</th>\n",
       "      <th>Industry Vertical</th>\n",
       "      <th>SubVertical</th>\n",
       "      <th>City  Location</th>\n",
       "      <th>Investors Name</th>\n",
       "      <th>InvestmentnType</th>\n",
       "      <th>Amount in USD</th>\n",
       "      <th>Remarks</th>\n",
       "    </tr>\n",
       "  </thead>\n",
       "  <tbody>\n",
       "    <tr>\n",
       "      <th>0</th>\n",
       "      <td>09/01/2020</td>\n",
       "      <td>BYJU’S</td>\n",
       "      <td>E-Tech</td>\n",
       "      <td>E-learning</td>\n",
       "      <td>Bengaluru</td>\n",
       "      <td>Tiger Global Management</td>\n",
       "      <td>Private Equity Round</td>\n",
       "      <td>20,00,00,000</td>\n",
       "      <td>NaN</td>\n",
       "    </tr>\n",
       "    <tr>\n",
       "      <th>1</th>\n",
       "      <td>13/01/2020</td>\n",
       "      <td>Shuttl</td>\n",
       "      <td>Transportation</td>\n",
       "      <td>App based shuttle service</td>\n",
       "      <td>Gurgaon</td>\n",
       "      <td>Susquehanna Growth Equity</td>\n",
       "      <td>Series C</td>\n",
       "      <td>80,48,394</td>\n",
       "      <td>NaN</td>\n",
       "    </tr>\n",
       "    <tr>\n",
       "      <th>2</th>\n",
       "      <td>09/01/2020</td>\n",
       "      <td>Mamaearth</td>\n",
       "      <td>E-commerce</td>\n",
       "      <td>Retailer of baby and toddler products</td>\n",
       "      <td>Bengaluru</td>\n",
       "      <td>Sequoia Capital India</td>\n",
       "      <td>Series B</td>\n",
       "      <td>1,83,58,860</td>\n",
       "      <td>NaN</td>\n",
       "    </tr>\n",
       "    <tr>\n",
       "      <th>3</th>\n",
       "      <td>02/01/2020</td>\n",
       "      <td>https://www.wealthbucket.in/</td>\n",
       "      <td>FinTech</td>\n",
       "      <td>Online Investment</td>\n",
       "      <td>New Delhi</td>\n",
       "      <td>Vinod Khatumal</td>\n",
       "      <td>Pre-series A</td>\n",
       "      <td>30,00,000</td>\n",
       "      <td>NaN</td>\n",
       "    </tr>\n",
       "    <tr>\n",
       "      <th>4</th>\n",
       "      <td>02/01/2020</td>\n",
       "      <td>Fashor</td>\n",
       "      <td>Fashion and Apparel</td>\n",
       "      <td>Embroiled Clothes For Women</td>\n",
       "      <td>Mumbai</td>\n",
       "      <td>Sprout Venture Partners</td>\n",
       "      <td>Seed Round</td>\n",
       "      <td>18,00,000</td>\n",
       "      <td>NaN</td>\n",
       "    </tr>\n",
       "  </tbody>\n",
       "</table>\n",
       "</div>"
      ],
      "text/plain": [
       "  Date dd/mm/yyyy                  Startup Name    Industry Vertical  \\\n",
       "0      09/01/2020                        BYJU’S               E-Tech   \n",
       "1      13/01/2020                        Shuttl       Transportation   \n",
       "2      09/01/2020                     Mamaearth           E-commerce   \n",
       "3      02/01/2020  https://www.wealthbucket.in/              FinTech   \n",
       "4      02/01/2020                        Fashor  Fashion and Apparel   \n",
       "\n",
       "                             SubVertical City  Location  \\\n",
       "0                             E-learning      Bengaluru   \n",
       "1              App based shuttle service        Gurgaon   \n",
       "2  Retailer of baby and toddler products      Bengaluru   \n",
       "3                      Online Investment      New Delhi   \n",
       "4            Embroiled Clothes For Women         Mumbai   \n",
       "\n",
       "              Investors Name       InvestmentnType Amount in USD Remarks  \n",
       "0    Tiger Global Management  Private Equity Round  20,00,00,000     NaN  \n",
       "1  Susquehanna Growth Equity              Series C     80,48,394     NaN  \n",
       "2      Sequoia Capital India              Series B   1,83,58,860     NaN  \n",
       "3             Vinod Khatumal          Pre-series A     30,00,000     NaN  \n",
       "4    Sprout Venture Partners            Seed Round     18,00,000     NaN  "
      ]
     },
     "execution_count": 14,
     "metadata": {},
     "output_type": "execute_result"
    }
   ],
   "source": [
    "#Gives the variables which has categorical datavalues in it\n",
    "data_cat=data.select_dtypes(include=['object'])\n",
    "data_cat.head()"
   ]
  },
  {
   "cell_type": "code",
   "execution_count": 15,
   "id": "ac5af66f",
   "metadata": {},
   "outputs": [
    {
     "data": {
      "text/plain": [
       "Date dd/mm/yyyy       0.000000\n",
       "Startup Name          0.000000\n",
       "Industry Vertical     5.617608\n",
       "SubVertical          30.749014\n",
       "City  Location        5.913272\n",
       "Investors Name        0.788436\n",
       "InvestmentnType       0.131406\n",
       "Amount in USD        31.537451\n",
       "Remarks              86.235217\n",
       "dtype: float64"
      ]
     },
     "execution_count": 15,
     "metadata": {},
     "output_type": "execute_result"
    }
   ],
   "source": [
    "#Gives missing percentage in categorical dataset\n",
    "missing_value_cat_per=data_cat.isnull().mean()*100\n",
    "missing_value_cat_per"
   ]
  },
  {
   "cell_type": "code",
   "execution_count": 16,
   "id": "8915eae9",
   "metadata": {},
   "outputs": [
    {
     "data": {
      "text/html": [
       "<div>\n",
       "<style scoped>\n",
       "    .dataframe tbody tr th:only-of-type {\n",
       "        vertical-align: middle;\n",
       "    }\n",
       "\n",
       "    .dataframe tbody tr th {\n",
       "        vertical-align: top;\n",
       "    }\n",
       "\n",
       "    .dataframe thead th {\n",
       "        text-align: right;\n",
       "    }\n",
       "</style>\n",
       "<table border=\"1\" class=\"dataframe\">\n",
       "  <thead>\n",
       "    <tr style=\"text-align: right;\">\n",
       "      <th></th>\n",
       "      <th>Total Missing Values</th>\n",
       "      <th>Percent %</th>\n",
       "    </tr>\n",
       "  </thead>\n",
       "  <tbody>\n",
       "    <tr>\n",
       "      <th>Date dd/mm/yyyy</th>\n",
       "      <td>0</td>\n",
       "      <td>0.000000</td>\n",
       "    </tr>\n",
       "    <tr>\n",
       "      <th>Startup Name</th>\n",
       "      <td>0</td>\n",
       "      <td>0.000000</td>\n",
       "    </tr>\n",
       "    <tr>\n",
       "      <th>Industry Vertical</th>\n",
       "      <td>171</td>\n",
       "      <td>5.617608</td>\n",
       "    </tr>\n",
       "    <tr>\n",
       "      <th>SubVertical</th>\n",
       "      <td>936</td>\n",
       "      <td>30.749014</td>\n",
       "    </tr>\n",
       "    <tr>\n",
       "      <th>City  Location</th>\n",
       "      <td>180</td>\n",
       "      <td>5.913272</td>\n",
       "    </tr>\n",
       "    <tr>\n",
       "      <th>Investors Name</th>\n",
       "      <td>24</td>\n",
       "      <td>0.788436</td>\n",
       "    </tr>\n",
       "    <tr>\n",
       "      <th>InvestmentnType</th>\n",
       "      <td>4</td>\n",
       "      <td>0.131406</td>\n",
       "    </tr>\n",
       "    <tr>\n",
       "      <th>Amount in USD</th>\n",
       "      <td>960</td>\n",
       "      <td>31.537451</td>\n",
       "    </tr>\n",
       "    <tr>\n",
       "      <th>Remarks</th>\n",
       "      <td>2625</td>\n",
       "      <td>86.235217</td>\n",
       "    </tr>\n",
       "  </tbody>\n",
       "</table>\n",
       "</div>"
      ],
      "text/plain": [
       "                   Total Missing Values  Percent %\n",
       "Date dd/mm/yyyy                       0   0.000000\n",
       "Startup Name                          0   0.000000\n",
       "Industry Vertical                   171   5.617608\n",
       "SubVertical                         936  30.749014\n",
       "City  Location                      180   5.913272\n",
       "Investors Name                       24   0.788436\n",
       "InvestmentnType                       4   0.131406\n",
       "Amount in USD                       960  31.537451\n",
       "Remarks                            2625  86.235217"
      ]
     },
     "execution_count": 16,
     "metadata": {},
     "output_type": "execute_result"
    }
   ],
   "source": [
    "pd.concat([data_cat.isnull().sum(), missing_value_cat_per], axis=1, keys=['Total Missing Values', 'Percent %'])"
   ]
  },
  {
   "cell_type": "code",
   "execution_count": 17,
   "id": "f76790f5",
   "metadata": {
    "scrolled": true
   },
   "outputs": [
    {
     "data": {
      "text/html": [
       "<div>\n",
       "<style scoped>\n",
       "    .dataframe tbody tr th:only-of-type {\n",
       "        vertical-align: middle;\n",
       "    }\n",
       "\n",
       "    .dataframe tbody tr th {\n",
       "        vertical-align: top;\n",
       "    }\n",
       "\n",
       "    .dataframe thead th {\n",
       "        text-align: right;\n",
       "    }\n",
       "</style>\n",
       "<table border=\"1\" class=\"dataframe\">\n",
       "  <thead>\n",
       "    <tr style=\"text-align: right;\">\n",
       "      <th></th>\n",
       "      <th>Total Missing Values</th>\n",
       "      <th>Percent %</th>\n",
       "    </tr>\n",
       "  </thead>\n",
       "  <tbody>\n",
       "    <tr>\n",
       "      <th>Date dd/mm/yyyy</th>\n",
       "      <td>0</td>\n",
       "      <td>0.000000</td>\n",
       "    </tr>\n",
       "    <tr>\n",
       "      <th>Startup Name</th>\n",
       "      <td>0</td>\n",
       "      <td>0.000000</td>\n",
       "    </tr>\n",
       "    <tr>\n",
       "      <th>Industry Vertical</th>\n",
       "      <td>171</td>\n",
       "      <td>5.617608</td>\n",
       "    </tr>\n",
       "    <tr>\n",
       "      <th>SubVertical</th>\n",
       "      <td>936</td>\n",
       "      <td>30.749014</td>\n",
       "    </tr>\n",
       "    <tr>\n",
       "      <th>City  Location</th>\n",
       "      <td>180</td>\n",
       "      <td>5.913272</td>\n",
       "    </tr>\n",
       "    <tr>\n",
       "      <th>Investors Name</th>\n",
       "      <td>24</td>\n",
       "      <td>0.788436</td>\n",
       "    </tr>\n",
       "    <tr>\n",
       "      <th>InvestmentnType</th>\n",
       "      <td>4</td>\n",
       "      <td>0.131406</td>\n",
       "    </tr>\n",
       "    <tr>\n",
       "      <th>Amount in USD</th>\n",
       "      <td>960</td>\n",
       "      <td>31.537451</td>\n",
       "    </tr>\n",
       "    <tr>\n",
       "      <th>Remarks</th>\n",
       "      <td>2625</td>\n",
       "      <td>86.235217</td>\n",
       "    </tr>\n",
       "  </tbody>\n",
       "</table>\n",
       "</div>"
      ],
      "text/plain": [
       "                   Total Missing Values  Percent %\n",
       "Date dd/mm/yyyy                       0   0.000000\n",
       "Startup Name                          0   0.000000\n",
       "Industry Vertical                   171   5.617608\n",
       "SubVertical                         936  30.749014\n",
       "City  Location                      180   5.913272\n",
       "Investors Name                       24   0.788436\n",
       "InvestmentnType                       4   0.131406\n",
       "Amount in USD                       960  31.537451\n",
       "Remarks                            2625  86.235217"
      ]
     },
     "execution_count": 17,
     "metadata": {},
     "output_type": "execute_result"
    }
   ],
   "source": [
    "pd.concat([data_cat.isnull().sum(), missing_value_cat_per], axis=1, keys=['Total Missing Values', 'Percent %'])"
   ]
  },
  {
   "cell_type": "code",
   "execution_count": 18,
   "id": "e7456c53",
   "metadata": {},
   "outputs": [
    {
     "data": {
      "text/plain": [
       "Index(['SubVertical', 'Amount in USD', 'Remarks'], dtype='object')"
      ]
     },
     "execution_count": 18,
     "metadata": {},
     "output_type": "execute_result"
    }
   ],
   "source": [
    "#Gives the names of columns what has more that 20% null values in it\n",
    "missing_value_clm_gre_20=missing_value_per[missing_value_per>20].keys()\n",
    "missing_value_clm_gre_20"
   ]
  },
  {
   "cell_type": "code",
   "execution_count": 19,
   "id": "d0714507",
   "metadata": {},
   "outputs": [
    {
     "data": {
      "text/plain": [
       "(3044, 7)"
      ]
     },
     "execution_count": 19,
     "metadata": {},
     "output_type": "execute_result"
    }
   ],
   "source": [
    "#Dropping columns which has null values more than 20% in it\n",
    "new_data=data.drop(columns=missing_value_clm_gre_20)\n",
    "new_data.shape"
   ]
  },
  {
   "cell_type": "code",
   "execution_count": 20,
   "id": "08f06c24",
   "metadata": {},
   "outputs": [
    {
     "data": {
      "text/plain": [
       "Index(['Industry Vertical', 'City  Location', 'Investors Name',\n",
       "       'InvestmentnType'],\n",
       "      dtype='object')"
      ]
     },
     "execution_count": 20,
     "metadata": {},
     "output_type": "execute_result"
    }
   ],
   "source": [
    "#Gives the names of variables which has missing values in it\n",
    "isnull_per=new_data.isnull().mean()*100\n",
    "miss_vars=isnull_per[isnull_per>0].keys()\n",
    "miss_vars"
   ]
  },
  {
   "cell_type": "code",
   "execution_count": 21,
   "id": "0c4bb8e2",
   "metadata": {},
   "outputs": [
    {
     "name": "stdout",
     "output_type": "stream",
     "text": [
      "Industry Vertical = Consumer Internet\n",
      "City  Location = Bangalore\n",
      "Investors Name = Undisclosed Investors\n",
      "InvestmentnType = Private Equity\n"
     ]
    }
   ],
   "source": [
    "#Fills the null values with mode and gives the name of the mode\n",
    "for var in miss_vars:\n",
    "    new_data[var].fillna(new_data[var].mode()[0],inplace=True)\n",
    "    print(var,\"=\",new_data[var].mode()[0])"
   ]
  },
  {
   "cell_type": "code",
   "execution_count": 22,
   "id": "a87ba7a1",
   "metadata": {},
   "outputs": [
    {
     "data": {
      "text/plain": [
       "Sr No                0\n",
       "Date dd/mm/yyyy      0\n",
       "Startup Name         0\n",
       "Industry Vertical    0\n",
       "City  Location       0\n",
       "Investors Name       0\n",
       "InvestmentnType      0\n",
       "dtype: int64"
      ]
     },
     "execution_count": 22,
     "metadata": {},
     "output_type": "execute_result"
    }
   ],
   "source": [
    "#Gives the count of null values\n",
    "new_data.isnull().sum()"
   ]
  },
  {
   "cell_type": "code",
   "execution_count": 23,
   "id": "8b2f1601",
   "metadata": {},
   "outputs": [
    {
     "data": {
      "image/png": "[encoded data removed]",
      "text/plain": [
       "<Figure size 1152x648 with 4 Axes>"
      ]
     },
     "metadata": {
      "needs_background": "light"
     },
     "output_type": "display_data"
    }
   ],
   "source": [
    "plt.figure(figsize=(16,9))\n",
    "for i,var in enumerate(miss_vars):\n",
    "    #There are 4 variable so 2 multiplied to 2 = 4\n",
    "    plt.subplot(2,2,i+1)\n",
    "    plt.hist(new_data[var],label='Imput')\n",
    "    #Removes null values and plot the histogram \n",
    "    plt.hist(data[var].dropna(),label='Original')\n",
    "    #It shows label\n",
    "    plt.legend()"
   ]
  },
  {
   "cell_type": "code",
   "execution_count": 24,
   "id": "6fa75284",
   "metadata": {},
   "outputs": [],
   "source": [
    "new_data.update(new_data)"
   ]
  },
  {
   "cell_type": "code",
   "execution_count": 25,
   "id": "7e80cb9a",
   "metadata": {},
   "outputs": [
    {
     "data": {
      "text/plain": [
       "0"
      ]
     },
     "execution_count": 25,
     "metadata": {},
     "output_type": "execute_result"
    }
   ],
   "source": [
    "new_data.isnull().sum().sum()"
   ]
  },
  {
   "cell_type": "code",
   "execution_count": 26,
   "id": "17f5ba39",
   "metadata": {},
   "outputs": [
    {
     "data": {
      "text/html": [
       "<div>\n",
       "<style scoped>\n",
       "    .dataframe tbody tr th:only-of-type {\n",
       "        vertical-align: middle;\n",
       "    }\n",
       "\n",
       "    .dataframe tbody tr th {\n",
       "        vertical-align: top;\n",
       "    }\n",
       "\n",
       "    .dataframe thead th {\n",
       "        text-align: right;\n",
       "    }\n",
       "</style>\n",
       "<table border=\"1\" class=\"dataframe\">\n",
       "  <thead>\n",
       "    <tr style=\"text-align: right;\">\n",
       "      <th></th>\n",
       "      <th>Sr No</th>\n",
       "      <th>Date dd/mm/yyyy</th>\n",
       "      <th>Startup Name</th>\n",
       "      <th>Industry Vertical</th>\n",
       "      <th>City  Location</th>\n",
       "      <th>Investors Name</th>\n",
       "      <th>InvestmentnType</th>\n",
       "    </tr>\n",
       "  </thead>\n",
       "  <tbody>\n",
       "    <tr>\n",
       "      <th>0</th>\n",
       "      <td>1</td>\n",
       "      <td>09/01/2020</td>\n",
       "      <td>BYJU’S</td>\n",
       "      <td>E-Tech</td>\n",
       "      <td>Bengaluru</td>\n",
       "      <td>Tiger Global Management</td>\n",
       "      <td>Private Equity Round</td>\n",
       "    </tr>\n",
       "    <tr>\n",
       "      <th>1</th>\n",
       "      <td>2</td>\n",
       "      <td>13/01/2020</td>\n",
       "      <td>Shuttl</td>\n",
       "      <td>Transportation</td>\n",
       "      <td>Gurgaon</td>\n",
       "      <td>Susquehanna Growth Equity</td>\n",
       "      <td>Series C</td>\n",
       "    </tr>\n",
       "    <tr>\n",
       "      <th>2</th>\n",
       "      <td>3</td>\n",
       "      <td>09/01/2020</td>\n",
       "      <td>Mamaearth</td>\n",
       "      <td>E-commerce</td>\n",
       "      <td>Bengaluru</td>\n",
       "      <td>Sequoia Capital India</td>\n",
       "      <td>Series B</td>\n",
       "    </tr>\n",
       "    <tr>\n",
       "      <th>3</th>\n",
       "      <td>4</td>\n",
       "      <td>02/01/2020</td>\n",
       "      <td>https://www.wealthbucket.in/</td>\n",
       "      <td>FinTech</td>\n",
       "      <td>New Delhi</td>\n",
       "      <td>Vinod Khatumal</td>\n",
       "      <td>Pre-series A</td>\n",
       "    </tr>\n",
       "    <tr>\n",
       "      <th>4</th>\n",
       "      <td>5</td>\n",
       "      <td>02/01/2020</td>\n",
       "      <td>Fashor</td>\n",
       "      <td>Fashion and Apparel</td>\n",
       "      <td>Mumbai</td>\n",
       "      <td>Sprout Venture Partners</td>\n",
       "      <td>Seed Round</td>\n",
       "    </tr>\n",
       "  </tbody>\n",
       "</table>\n",
       "</div>"
      ],
      "text/plain": [
       "   Sr No Date dd/mm/yyyy                  Startup Name    Industry Vertical  \\\n",
       "0      1      09/01/2020                        BYJU’S               E-Tech   \n",
       "1      2      13/01/2020                        Shuttl       Transportation   \n",
       "2      3      09/01/2020                     Mamaearth           E-commerce   \n",
       "3      4      02/01/2020  https://www.wealthbucket.in/              FinTech   \n",
       "4      5      02/01/2020                        Fashor  Fashion and Apparel   \n",
       "\n",
       "  City  Location             Investors Name       InvestmentnType  \n",
       "0      Bengaluru    Tiger Global Management  Private Equity Round  \n",
       "1        Gurgaon  Susquehanna Growth Equity              Series C  \n",
       "2      Bengaluru      Sequoia Capital India              Series B  \n",
       "3      New Delhi             Vinod Khatumal          Pre-series A  \n",
       "4         Mumbai    Sprout Venture Partners            Seed Round  "
      ]
     },
     "execution_count": 26,
     "metadata": {},
     "output_type": "execute_result"
    }
   ],
   "source": [
    "new_data.head()"
   ]
  },
  {
   "cell_type": "markdown",
   "id": "03ab78ad",
   "metadata": {},
   "source": [
    "# EDA and DATA VISUALIZATIONS"
   ]
  },
  {
   "cell_type": "markdown",
   "id": "71e4d579",
   "metadata": {},
   "source": [
    "# Which Kind of Industries are more preferred for Startups?"
   ]
  },
  {
   "cell_type": "code",
   "execution_count": 27,
   "id": "fe23e42a",
   "metadata": {},
   "outputs": [
    {
     "name": "stdout",
     "output_type": "stream",
     "text": [
      "Consumer Internet    1112\n",
      "Technology            478\n",
      "eCommerce             186\n",
      "Healthcare             70\n",
      "Finance                62\n",
      "ECommerce              61\n",
      "Logistics              32\n",
      "E-Commerce             29\n",
      "Education              24\n",
      "Food & Beverage        23\n",
      "Name: Industry Vertical, dtype: int64\n"
     ]
    },
    {
     "data": {
      "image/png": "[encoded data removed]",
      "text/plain": [
       "<Figure size 1080x360 with 1 Axes>"
      ]
     },
     "metadata": {
      "needs_background": "light"
     },
     "output_type": "display_data"
    }
   ],
   "source": [
    "#lets analyze the Industry of the Startups\n",
    "\n",
    "# data cleaning\n",
    "new_data['Industry Vertical'] = new_data['Industry Vertical'].replace('nan', 'Consumer Technology')\n",
    "\n",
    "industry = new_data['Industry Vertical'].value_counts().head(10)\n",
    "print(industry)\n",
    "\n",
    "# lets plot the data\n",
    "plt.rcParams['figure.figsize'] = (15, 5)\n",
    "sns.barplot(industry.index, industry.values, palette = 'autumn')\n",
    "plt.xticks(rotation='vertical')\n",
    "plt.xlabel('Industry vertical of startups', fontsize=12)\n",
    "plt.ylabel('Number of fundings made', fontsize=12)\n",
    "plt.title(\"Industry vertical of startups with number of funding\", fontsize=16)\n",
    "plt.show()"
   ]
  },
  {
   "cell_type": "code",
   "execution_count": 28,
   "id": "8cbfd67d",
   "metadata": {},
   "outputs": [
    {
     "name": "stdout",
     "output_type": "stream",
     "text": [
      "Online Lending Platform                          11\n",
      "Online Pharmacy                                  10\n",
      "Food Delivery Platform                            8\n",
      "Online Learning Platform                          5\n",
      "Online Education Platform                         5\n",
      "Online lending platform                           5\n",
      "Online Lending                                    5\n",
      "Education                                         5\n",
      "Online Food Delivery                              4\n",
      "Non-Banking Financial Company                     4\n",
      "Online Payment Gateway                            3\n",
      "SaaS                                              3\n",
      "E-learning                                        3\n",
      "Online Marketplace                                3\n",
      "Fitness Mobile App                                3\n",
      "Agri-tech                                         3\n",
      "Online Insurance Platform                         3\n",
      "ECommerce Marketplace                             3\n",
      "B2B Marketplace                                   3\n",
      "Logistics                                         3\n",
      "Online Gifting platform                           3\n",
      "Online Insurance Aggregator                       3\n",
      "Online Food Delivery Platform                     3\n",
      "Online Furniture Store                            3\n",
      "Data Analytics platform                           3\n",
      "Online learning platform                          3\n",
      "Online platform for Higher Education Services     3\n",
      "FinTech                                           2\n",
      "Online Food Ordering & Delivery Portal            2\n",
      "Contact Management Mobile App                     2\n",
      "Name: SubVertical, dtype: int64\n"
     ]
    },
    {
     "data": {
      "image/png": "[encoded data removed]",
      "text/plain": [
       "<Figure size 1080x360 with 1 Axes>"
      ]
     },
     "metadata": {
      "needs_background": "light"
     },
     "output_type": "display_data"
    }
   ],
   "source": [
    "# lets analyze the sub vertical industries\n",
    "\n",
    "industry = data['SubVertical'].value_counts().head(30)\n",
    "print(industry)\n",
    "\n",
    "# lets plot the data\n",
    "sns.lineplot(industry.index, industry.values, palette = 'winter')\n",
    "plt.xticks(rotation='vertical')\n",
    "plt.xlabel('Subvertical of startups', fontsize=12)\n",
    "plt.ylabel('Number of fundings made', fontsize=12)\n",
    "plt.title(\"Subvertical of startups with number of funding\", fontsize=16)\n",
    "plt.show()"
   ]
  },
  {
   "cell_type": "markdown",
   "id": "2427e20a",
   "metadata": {},
   "source": [
    "# Which Kind of City Location are more preferred for Startups?"
   ]
  },
  {
   "cell_type": "code",
   "execution_count": 29,
   "id": "779fc159",
   "metadata": {},
   "outputs": [
    {
     "name": "stdout",
     "output_type": "stream",
     "text": [
      "Bangalore    880\n",
      "Mumbai       567\n",
      "New Delhi    421\n",
      "Gurgaon      287\n",
      "Bengaluru    141\n",
      "Pune         105\n",
      "Hyderabad     99\n",
      "Chennai       97\n",
      "Noida         92\n",
      "Gurugram      50\n",
      "Name: City  Location, dtype: int64\n"
     ]
    },
    {
     "data": {
      "image/png": "[encoded data removed]",
      "text/plain": [
       "<Figure size 1080x360 with 1 Axes>"
      ]
     },
     "metadata": {
      "needs_background": "light"
     },
     "output_type": "display_data"
    }
   ],
   "source": [
    "#lets analyze the City Location of the Startups\n",
    "\n",
    "City = new_data['City  Location'].value_counts().head(10)\n",
    "print(City)\n",
    "\n",
    "# lets plot the data\n",
    "plt.rcParams['figure.figsize'] = (15, 5)\n",
    "sns.barplot(City.index, City.values, palette = 'autumn')\n",
    "plt.xticks(rotation='vertical')\n",
    "plt.xlabel('City Location of startups', fontsize=12)\n",
    "plt.ylabel('Number of Cities ', fontsize=12)\n",
    "plt.title(\"City Location of startups with number of Cities\", fontsize=16)\n",
    "plt.show()"
   ]
  },
  {
   "cell_type": "markdown",
   "id": "a027f2a5",
   "metadata": {},
   "source": [
    "# Which Kind of Investment Type are more preferred for Startups?"
   ]
  },
  {
   "cell_type": "code",
   "execution_count": 30,
   "id": "9730bfec",
   "metadata": {},
   "outputs": [
    {
     "name": "stdout",
     "output_type": "stream",
     "text": [
      "Private Equity          1360\n",
      "Seed Funding            1355\n",
      "Seed/ Angel Funding       60\n",
      "Seed / Angel Funding      47\n",
      "Seed\\\\nFunding            30\n",
      "Debt Funding              25\n",
      "Series A                  24\n",
      "Seed/Angel Funding        23\n",
      "Series B                  20\n",
      "Series C                  14\n",
      "Name: InvestmentnType, dtype: int64\n"
     ]
    },
    {
     "data": {
      "image/png": "[encoded data removed]",
      "text/plain": [
       "<Figure size 1080x360 with 1 Axes>"
      ]
     },
     "metadata": {
      "needs_background": "light"
     },
     "output_type": "display_data"
    }
   ],
   "source": [
    "#lets analyze the Investment Type of the Startups\n",
    "\n",
    "Type = new_data['InvestmentnType'].value_counts().head(10)\n",
    "print(Type)\n",
    "\n",
    "# lets plot the data\n",
    "plt.rcParams['figure.figsize'] = (15, 5)\n",
    "sns.barplot(Type.index, Type.values, palette = 'autumn')\n",
    "plt.xticks(rotation='vertical')\n",
    "plt.xlabel('Investment Type of startups', fontsize=12)\n",
    "plt.ylabel('Number of Investment Type ', fontsize=12)\n",
    "plt.title(\"Investment Type of startups with its count\", fontsize=16)\n",
    "plt.show()"
   ]
  },
  {
   "cell_type": "markdown",
   "id": "082dcba6",
   "metadata": {},
   "source": [
    "# What is the Number of Fundings that Startups get in India?"
   ]
  },
  {
   "cell_type": "code",
   "execution_count": 31,
   "id": "589fe89c",
   "metadata": {},
   "outputs": [
    {
     "name": "stdout",
     "output_type": "stream",
     "text": [
      "Total startups funded :  2459\n",
      "Ola Cabs     8\n",
      "Swiggy       8\n",
      "Paytm        7\n",
      "Meesho       6\n",
      "UrbanClap    6\n",
      "Medinfi      6\n",
      "NoBroker     6\n",
      "Nykaa        6\n",
      "Flipkart     5\n",
      "Toppr        5\n",
      "Name: Startup Name, dtype: int64\n"
     ]
    },
    {
     "data": {
      "image/png": "[encoded data removed]",
      "text/plain": [
       "<Figure size 864x1080 with 1 Axes>"
      ]
     },
     "metadata": {
      "needs_background": "light"
     },
     "output_type": "display_data"
    }
   ],
   "source": [
    "# lets check the no. of funding each startsup got\n",
    "\n",
    "print(\"Total startups funded : \", len(data[\"Startup Name\"].unique()))\n",
    "print(data[\"Startup Name\"].value_counts().head(10))\n",
    "startupname = data['Startup Name'].value_counts().head(20)\n",
    "\n",
    "# lets plot the data\n",
    "plt.rcParams['figure.figsize'] = (12, 15)\n",
    "sns.barplot(y = startupname.index, x = startupname.values, alpha=0.9, palette = 'Dark2')\n",
    "plt.xticks(rotation='vertical')\n",
    "plt.xlabel('Startup Name', fontsize=12)\n",
    "plt.ylabel('Number of fundings made', fontsize=12)\n",
    "plt.title(\"Number of fundings Startups Have\", fontsize=16)\n",
    "plt.show()"
   ]
  },
  {
   "cell_type": "markdown",
   "id": "c303347e",
   "metadata": {},
   "source": [
    "# Lets analyze the investors on startups?"
   ]
  },
  {
   "cell_type": "code",
   "execution_count": 32,
   "id": "8f10dd41",
   "metadata": {},
   "outputs": [
    {
     "name": "stdout",
     "output_type": "stream",
     "text": [
      "Undisclosed Investors       63\n",
      "Undisclosed investors       30\n",
      "Ratan Tata                  25\n",
      "Indian Angel Network        23\n",
      "Kalaari Capital             16\n",
      "Group of Angel Investors    15\n",
      "Sequoia Capital             15\n",
      "Undisclosed Investor        12\n",
      "Accel Partners              12\n",
      "Venture Catalysts           11\n",
      "Name: Investors Name, dtype: int64\n"
     ]
    },
    {
     "data": {
      "image/png": "[encoded data removed]",
      "text/plain": [
       "<Figure size 864x1080 with 1 Axes>"
      ]
     },
     "metadata": {
      "needs_background": "light"
     },
     "output_type": "display_data"
    }
   ],
   "source": [
    "# lets check the value counts\n",
    "investors = new_data['Investors Name'].value_counts().head(10)\n",
    "print(investors)\n",
    "\n",
    "# lets plot the data\n",
    "sns.barplot(investors.index, investors.values, palette = 'cool')\n",
    "plt.xticks(rotation='vertical')\n",
    "plt.xlabel('Investors Names', fontsize=12)\n",
    "plt.ylabel('Number of fundings made', fontsize=12)\n",
    "plt.title(\"Investors Names with number of funding\", fontsize=16)\n",
    "plt.show()"
   ]
  },
  {
   "cell_type": "markdown",
   "id": "7fc5bb5c",
   "metadata": {},
   "source": [
    "# How Does the Funding Ecosystem changes with respect to Time?"
   ]
  },
  {
   "cell_type": "code",
   "execution_count": 33,
   "id": "822d93c2",
   "metadata": {},
   "outputs": [
    {
     "name": "stdout",
     "output_type": "stream",
     "text": [
      "02/02/2015    11\n",
      "30/11/2016    11\n",
      "08/07/2015    11\n",
      "04/10/2016    10\n",
      "23/07/2015     9\n",
      "24/08/2016     9\n",
      "01/06/2015     9\n",
      "08/02/2016     9\n",
      "04/05/2016     9\n",
      "22/01/2016     9\n",
      "21/06/2016     9\n",
      "29/01/2016     9\n",
      "11/12/2015     8\n",
      "03/06/2015     8\n",
      "08/06/2016     8\n",
      "19/05/2015     8\n",
      "15/04/2016     8\n",
      "10/02/2016     8\n",
      "06/08/2015     8\n",
      "19/01/2015     8\n",
      "04/03/2016     8\n",
      "15/02/2016     8\n",
      "03/11/2015     8\n",
      "19/01/2016     8\n",
      "10/08/2015     8\n",
      "22/09/2015     8\n",
      "17/08/2015     8\n",
      "05/02/2016     8\n",
      "13/07/2016     8\n",
      "22/12/2015     8\n",
      "10/12/2015     8\n",
      "17/04/2017     7\n",
      "29/04/2015     7\n",
      "06/01/2016     7\n",
      "19/04/2016     7\n",
      "03/08/2015     7\n",
      "23/04/2015     7\n",
      "22/02/2016     7\n",
      "04/09/2019     7\n",
      "16/08/2016     7\n",
      "21/11/2017     7\n",
      "05/08/2015     7\n",
      "01/12/2015     7\n",
      "06/06/2017     7\n",
      "12/05/2016     7\n",
      "22/03/2016     7\n",
      "09/03/2016     7\n",
      "07/12/2016     7\n",
      "30/10/2015     7\n",
      "30/07/2015     7\n",
      "Name: Date dd/mm/yyyy, dtype: int64\n"
     ]
    },
    {
     "data": {
      "image/png": "[encoded data removed]",
      "text/plain": [
       "<Figure size 1080x504 with 1 Axes>"
      ]
     },
     "metadata": {
      "needs_background": "light"
     },
     "output_type": "display_data"
    }
   ],
   "source": [
    "# lets check the value counts\n",
    "year_month = new_data['Date dd/mm/yyyy'].value_counts().head(50)\n",
    "print(year_month)\n",
    "\n",
    "# lets plot the data\n",
    "plt.rcParams['figure.figsize'] = (15, 7)\n",
    "sns.barplot(year_month.index, year_month.values, palette = 'copper')\n",
    "plt.xticks(rotation = 90)\n",
    "plt.xlabel('Year-Month of transaction', fontsize=12)\n",
    "plt.ylabel('Number of fundings made', fontsize=12)\n",
    "plt.title(\"Year-Month Distribution\", fontsize=16)\n",
    "plt.show()"
   ]
  },
  {
   "cell_type": "markdown",
   "id": "08eb12ae",
   "metadata": {},
   "source": [
    "# THANK YOU"
   ]
  },
  {
   "cell_type": "code",
   "execution_count": null,
   "id": "f7c9ff89",
   "metadata": {},
   "outputs": [],
   "source": []
  }
 ],
 "metadata": {
  "kernelspec": {
   "display_name": "Python 3",
   "language": "python",
   "name": "python3"
  },
  "language_info": {
   "codemirror_mode": {
    "name": "ipython",
    "version": 3
   },
   "file_extension": ".py",
   "mimetype": "text/x-python",
   "name": "python",
   "nbconvert_exporter": "python",
   "pygments_lexer": "ipython3",
   "version": "3.8.8"
  }
 },
 "nbformat": 4,
 "nbformat_minor": 5
}
